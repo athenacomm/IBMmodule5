{
 "cells": [
  {
   "cell_type": "markdown",
   "id": "92d5d555-8b5c-4592-9e22-59aab8318cd5",
   "metadata": {},
   "source": [
    "Data Science Tools and Ecosystem"
   ]
  },
  {
   "cell_type": "code",
   "execution_count": null,
   "id": "a2c9a5c8-083b-4f81-b8ed-1f1d48abfa47",
   "metadata": {},
   "outputs": [],
   "source": []
  },
  {
   "cell_type": "markdown",
   "id": "00b10baa-e487-410a-8eef-66a9764995e2",
   "metadata": {},
   "source": [
    "In this notebook, Data Science Tools and Ecosystem are summarized."
   ]
  },
  {
   "cell_type": "markdown",
   "id": "323ace29-f486-4a5d-ad81-9543e71a0ab9",
   "metadata": {},
   "source": [
    "Some of the popular languages that Data Scientists use are:\r",
    "- Julia\n",
    "- Python\n",
    "- R\n"
   ]
  },
  {
   "cell_type": "markdown",
   "id": "4ca1ff42-c3d4-4126-ac39-4f8469b1909c",
   "metadata": {},
   "source": [
    "Some of the commonly used libraries used by Data Scientists include:\r",
    "- Ggally\n",
    "- Pandas\n",
    "- NumPy\n"
   ]
  },
  {
   "cell_type": "markdown",
   "id": "a15622eb-4a28-496b-bf8a-12947b3796fb",
   "metadata": {},
   "source": [
    "| Data Science Tools      |\r\n",
    "|-------------------------|\r\n",
    "| Jupyter Notebook        |\r\n",
    "| RStudio                 |\r\n",
    "| Visual Studio Code      |\r\n"
   ]
  },
  {
   "cell_type": "markdown",
   "id": "23101992-6912-44bb-b8bd-cc1ee59d84ba",
   "metadata": {},
   "source": [
    "Below are a few examples of evaluating arithmetic expressions in Python.\r\n",
    "\r\n"
   ]
  },
  {
   "cell_type": "code",
   "execution_count": 9,
   "id": "fd9b4c7b-c8a9-40a1-98d1-cd77b77e0f50",
   "metadata": {},
   "outputs": [
    {
     "data": {
      "text/plain": [
       "17"
      ]
     },
     "execution_count": 9,
     "metadata": {},
     "output_type": "execute_result"
    }
   ],
   "source": [
    "#This a simple arithmetic expression to mutiply then add integers\n",
    "(3*4)+5"
   ]
  },
  {
   "cell_type": "code",
   "execution_count": 11,
   "id": "3167ccff-da40-4832-8baf-f16dba915d73",
   "metadata": {},
   "outputs": [
    {
     "data": {
      "text/plain": [
       "3.3333333333333335"
      ]
     },
     "execution_count": 11,
     "metadata": {},
     "output_type": "execute_result"
    }
   ],
   "source": [
    "#This will convert 200 minutes to hours by diving by 60.\n",
    "200/60"
   ]
  },
  {
   "cell_type": "markdown",
   "id": "d0786a34-933f-4133-9e50-154d22c132c1",
   "metadata": {},
   "source": [
    "**Objectives:**\r\n",
    "- List popular languages for data science\n",
    "- Identify data science libraries\n",
    "- Learn R and RStudio\n",
    "- Insert tables in markdown format\n",
    "- Set up Jupyter notebooks  \r\n"
   ]
  },
  {
   "cell_type": "markdown",
   "id": "ba0b315a-bd10-4b57-9871-b9cad077c1c6",
   "metadata": {},
   "source": [
    "## Author\n",
    "\n",
    "lloyd\n"
   ]
  }
 ],
 "metadata": {
  "kernelspec": {
   "display_name": "Python 3 (ipykernel)",
   "language": "python",
   "name": "python3"
  },
  "language_info": {
   "codemirror_mode": {
    "name": "ipython",
    "version": 3
   },
   "file_extension": ".py",
   "mimetype": "text/x-python",
   "name": "python",
   "nbconvert_exporter": "python",
   "pygments_lexer": "ipython3",
   "version": "3.12.4"
  }
 },
 "nbformat": 4,
 "nbformat_minor": 5
}
